{
 "cells": [
  {
   "cell_type": "code",
   "execution_count": 1,
   "metadata": {},
   "outputs": [
    {
     "data": {
      "text/plain": [
       "True"
      ]
     },
     "execution_count": 1,
     "metadata": {},
     "output_type": "execute_result"
    }
   ],
   "source": [
    "import os\n",
    "from dotenv import load_dotenv\n",
    "\n",
    "load_dotenv()"
   ]
  },
  {
   "cell_type": "code",
   "execution_count": 3,
   "metadata": {},
   "outputs": [
    {
     "data": {
      "text/plain": [
       "[{'url': 'https://counterstrike.fandom.com/wiki/Counter-Strike_2',\n",
       "  'content': 'Counter-Strike 2 (CS2) is a first-person shooter video game developed by Valve Corporation which is a part of the Counter-Strike series.'},\n",
       " {'url': 'https://www.counter-strike.net/cs2',\n",
       "  'content': 'Counter-Strike 2 is the largest technical leap forward in Counter-Strike’s history, ensuring new features and updates for years to come. Counter-Strike 2 is a free upgrade to CS:GO. In Counter-Strike 2 smoke particles work with the unified lighting system allowing for more realistic light and color. Classic maps with solid foundations that players can use to evaluate gameplay changes from CS:GO to Counter-Strike 2. All of the visual effects have been updated in Counter-Strike 2. Leveraging the Source 2 Engine and modern hardware, environmental effects in Counter-Strike 2 feature improved visual fidelity and greater consistency. The UI in Counter-Strike 2 has gotten a complete overhaul, including fresh visual effects throughout the HUD.'}]"
      ]
     },
     "execution_count": 3,
     "metadata": {},
     "output_type": "execute_result"
    }
   ],
   "source": [
    "from langchain_community.tools.tavily_search import TavilySearchResults\n",
    "\n",
    "tool = TavilySearchResults(max_results=2)\n",
    "tools = [tool]\n",
    "tool.invoke(\"What's CS2?\")"
   ]
  },
  {
   "cell_type": "code",
   "execution_count": 4,
   "metadata": {},
   "outputs": [],
   "source": [
    "from typing import Annotated\n",
    "\n",
    "from langchain_openai import ChatOpenAI\n",
    "from typing_extensions import TypedDict\n",
    "\n",
    "from langgraph.graph import StateGraph, START, END\n",
    "from langgraph.graph.message import add_messages"
   ]
  },
  {
   "cell_type": "code",
   "execution_count": 6,
   "metadata": {},
   "outputs": [],
   "source": [
    "class State(TypedDict):\n",
    "    messages: Annotated[list, add_messages]\n",
    "\n",
    "graph_builder = StateGraph(State)"
   ]
  },
  {
   "cell_type": "code",
   "execution_count": 8,
   "metadata": {},
   "outputs": [],
   "source": [
    "llm = ChatOpenAI(\n",
    "    model=\"gpt-4o-mini\",\n",
    "    temperature=0.1,\n",
    "    max_completion_tokens=None,\n",
    "    timeout=None,\n",
    ")\n",
    "\n",
    "llm_with_tools = llm.bind_tools(tools)"
   ]
  },
  {
   "cell_type": "code",
   "execution_count": 9,
   "metadata": {},
   "outputs": [
    {
     "data": {
      "text/plain": [
       "<langgraph.graph.state.StateGraph at 0x7cb208613680>"
      ]
     },
     "execution_count": 9,
     "metadata": {},
     "output_type": "execute_result"
    }
   ],
   "source": [
    "def chatbot(state: State):\n",
    "    return {\"messages\": [llm_with_tools.invoke(state[\"messages\"])]}\n",
    "\n",
    "\n",
    "graph_builder.add_node(\"chatbot\", chatbot)\n"
   ]
  },
  {
   "cell_type": "code",
   "execution_count": 10,
   "metadata": {},
   "outputs": [],
   "source": [
    "import json\n",
    "\n",
    "from langchain_core.messages import ToolMessage"
   ]
  },
  {
   "cell_type": "code",
   "execution_count": 11,
   "metadata": {},
   "outputs": [],
   "source": [
    "class BasicToolNode:\n",
    "    \"\"\"A node that runs the tools requested in the last AIMessage.\"\"\"\n",
    "\n",
    "    def __init__(self, tools: list) -> None:\n",
    "        self.tools_by_name = {tool.name: tool for tool in tools}\n",
    "\n",
    "    def __call__(self, inputs: dict):\n",
    "        if messages := inputs.get(\"messages\", []):\n",
    "            message = messages[-1]\n",
    "        else:\n",
    "            raise ValueError(\"No message found in input\")\n",
    "        outputs = []\n",
    "        for tool_call in message.tool_calls:\n",
    "            tool_result = self.tools_by_name[tool_call[\"name\"]].invoke(\n",
    "                tool_call[\"args\"]\n",
    "            )\n",
    "            outputs.append(\n",
    "                ToolMessage(\n",
    "                    content=json.dumps(tool_result),\n",
    "                    name=tool_call[\"name\"],\n",
    "                    tool_call_id=tool_call[\"id\"],\n",
    "                )\n",
    "            )\n",
    "        return {\"messages\": outputs}\n"
   ]
  },
  {
   "cell_type": "code",
   "execution_count": 12,
   "metadata": {},
   "outputs": [
    {
     "data": {
      "text/plain": [
       "<langgraph.graph.state.StateGraph at 0x7cb208613680>"
      ]
     },
     "execution_count": 12,
     "metadata": {},
     "output_type": "execute_result"
    }
   ],
   "source": [
    "tool_node = BasicToolNode(tools=[tool])\n",
    "graph_builder.add_node(\"tools\", tool_node)"
   ]
  },
  {
   "cell_type": "code",
   "execution_count": 13,
   "metadata": {},
   "outputs": [],
   "source": [
    "def route_tools(\n",
    "    state: State,\n",
    "):\n",
    "    \n",
    "    if isinstance(state, list):\n",
    "        ai_message = state[-1]\n",
    "    elif messages := state.get(\"messages\", []):\n",
    "        ai_message = messages[-1]\n",
    "    else:\n",
    "        raise ValueError(f\"No messages found in input state to tool_edge: {state}\")\n",
    "    if hasattr(ai_message, \"tool_calls\") and len(ai_message.tool_calls) > 0:\n",
    "        return \"tools\"\n",
    "    return END"
   ]
  },
  {
   "cell_type": "code",
   "execution_count": 14,
   "metadata": {},
   "outputs": [
    {
     "data": {
      "text/plain": [
       "<langgraph.graph.state.StateGraph at 0x7cb208613680>"
      ]
     },
     "execution_count": 14,
     "metadata": {},
     "output_type": "execute_result"
    }
   ],
   "source": [
    "graph_builder.add_conditional_edges(\n",
    "    \"chatbot\",\n",
    "    route_tools,\n",
    "    {\"tools\": \"tools\", END: END},\n",
    ")"
   ]
  },
  {
   "cell_type": "code",
   "execution_count": 15,
   "metadata": {},
   "outputs": [],
   "source": [
    "graph_builder.add_edge(\"tools\", \"chatbot\")\n",
    "graph_builder.add_edge(START, \"chatbot\")\n",
    "graph = graph_builder.compile()\n"
   ]
  },
  {
   "cell_type": "code",
   "execution_count": 16,
   "metadata": {},
   "outputs": [
    {
     "data": {
      "image/png": "[encoded data removed]",
      "text/plain": [
       "<IPython.core.display.Image object>"
      ]
     },
     "metadata": {},
     "output_type": "display_data"
    }
   ],
   "source": [
    "from IPython.display import Image, display\n",
    "from langchain_core.runnables.graph_mermaid import draw_mermaid_png\n",
    "\n",
    "try:\n",
    "    display(Image(graph.get_graph().draw_mermaid_png()))\n",
    "except Exception:\n",
    "    # This requires some extra dependencies and is optional\n",
    "    pass"
   ]
  },
  {
   "cell_type": "code",
   "execution_count": 17,
   "metadata": {},
   "outputs": [],
   "source": [
    "def stream_graph_updates(user_input: str):\n",
    "    for event in graph.stream({\"messages\": [{\"role\": \"user\", \"content\": user_input}]}):\n",
    "        for value in event.values():\n",
    "            print(\"Assistant:\", value[\"messages\"][-1].content)"
   ]
  },
  {
   "cell_type": "code",
   "execution_count": 18,
   "metadata": {},
   "outputs": [
    {
     "name": "stdout",
     "output_type": "stream",
     "text": [
      "Assistant: \n",
      "Assistant: [{\"url\": \"https://www.aopanet.org/\", \"content\": \"AOPA Announces Significant Donation to the O&P Foundation Alexandria, VA (January 21, 2025) \\u2013 The American Orthotic and Prosthetic Association (AOPA) is proud to announce a donation of $1 million over the next five years to the Orthotics and Prosthetics Foundation for Education and Research (O&P Foundation). The American Orthotics and Prosthetics Association (AOPA) Board of Directors is pleased to announce that Teri Kuffel, JD will serve as Interim Executive Director effective January 1. It is with mixed emotions that the American Orthotic and Prosthetic Association (AOPA) Board of Directors announce the departure of Eve Lee, MBA, CAE, who will be stepping down from her role as Executive Director, effective January 22, 2025. Search AOPA Members\"}, {\"url\": \"https://www.aopa.org/\", \"content\": \"Embark on your next aviation adventure: Explore exciting destinations, read inspiring travel stories, plan your trip with our flight planner, and access exclusive discounts! Join our community for exclusive benefits: Access pilot information, participate in sweepstakes, enjoy legal & medical services, discounts, and enhance your aviation journey! *   Embark on your next aviation adventure: Explore exciting destinations, read inspiring travel stories, plan your trip with our flight planner, and access exclusive discounts! *   Join our community for exclusive benefits: Access pilot information, participate in sweepstakes, enjoy legal & medical services, discounts, and enhance your aviation journey! AOPA protects your freedom to fly, helps keep our airspace safe, and enhances your aviation journey with access to unique products, services and benefits. You Can Fly ### AOPA Flight Training Advantage (AFTA) About AOPA\"}]\n",
      "Assistant: The term \"AOPA\" can refer to two different organizations:\n",
      "\n",
      "1. **American Orthotic and Prosthetic Association (AOPA)**: This organization focuses on the orthotics and prosthetics profession. Recently, they announced a significant donation of $1 million over the next five years to the Orthotics and Prosthetics Foundation for Education and Research. You can find more information on their official website: [AOPA](https://www.aopanet.org/).\n",
      "\n",
      "2. **Aircraft Owners and Pilots Association (AOPA)**: This is a leading organization for general aviation pilots and aircraft owners. AOPA provides resources for flight planning, access to discounts, and legal and medical services. They aim to protect the freedom to fly and enhance the aviation experience. More details can be found on their website: [AOPA](https://www.aopa.org/).\n",
      "\n",
      "If you need information on a specific AOPA, please let me know!\n",
      "Assistant: \n",
      "Assistant: [{\"url\": \"https://www.tripadvisor.com.br/Restaurants-g303324-Goiania_State_of_Goias.html\", \"content\": \"Entre os melhores restaurantes em Goi\\u00e2nia est\\u00e3o: Camarada Camar\\u00e3o Goi\\u00e2nia Shopping \\u00b7 Izu Japanese - Jardim Goi\\u00e1s \\u00b7 Coco Bambu Passeio Das \\u00c1guas\"}, {\"url\": \"https://www.chavesnamao.com.br/melhores-bairros/go-goiania/quais-sao-os-melhores-restaurantes-de-goiania/\", \"content\": \"Os 7 melhores restaurantes de Goi\\u00e2nia \\u00b7 1. Ju\\u00e1 \\u00b7 2. IZU \\u00b7 3. Gr\\u00e1 Bistr\\u00f4 | Rooftop \\u00b7 4. 1929 Trattoria Moderna \\u00b7 5. Kabanas \\u00b7 6. Moony \\u00b7 7. Zen Adega e\"}]\n",
      "Assistant: Em Goiânia, você pode encontrar uma variedade de ótimos restaurantes. Aqui estão algumas das melhores opções:\n",
      "\n",
      "1. **Camarada Camarão** - Localizado no Goiânia Shopping, é conhecido por seus pratos à base de frutos do mar.\n",
      "2. **Izu Japanese** - Um restaurante japonês no Jardim Goiás, famoso pela sua culinária asiática.\n",
      "3. **Coco Bambu** - Oferece uma experiência gastronômica diversificada, com foco em frutos do mar e pratos regionais.\n",
      "\n",
      "Outras recomendações incluem:\n",
      "\n",
      "- **Juá**\n",
      "- **Grá Bistrô | Rooftop**\n",
      "- **1929 Trattoria Moderna**\n",
      "- **Kabanas**\n",
      "- **Moony**\n",
      "- **Zen Adega**\n",
      "\n",
      "Para mais detalhes, você pode conferir as listas completas nos links: [Tripadvisor](https://www.tripadvisor.com.br/Restaurants-g303324-Goiania_State_of_Goias.html) e [Chaves na Mão](https://www.chavesnamao.com.br/melhores-bairros/go-goiania/quais-sao-os-melhores-restaurantes-de-goiania/).\n",
      "Assistant: Hello! How can I assist you today?\n",
      "Goodbye!\n"
     ]
    }
   ],
   "source": [
    "while True:\n",
    "    try:\n",
    "        user_input = input(\"User: \")\n",
    "        if user_input.lower() in [\"quit\", \"exit\", \"q\"]:\n",
    "            print(\"Goodbye!\")\n",
    "            break\n",
    "\n",
    "        stream_graph_updates(user_input)\n",
    "    except:\n",
    "        user_input = \"What do you know about LangGraph?\"\n",
    "        print(\"User: \" + user_input)\n",
    "        stream_graph_updates(user_input)\n",
    "        break"
   ]
  }
 ],
 "metadata": {
  "kernelspec": {
   "display_name": ".venv",
   "language": "python",
   "name": "python3"
  },
  "language_info": {
   "codemirror_mode": {
    "name": "ipython",
    "version": 3
   },
   "file_extension": ".py",
   "mimetype": "text/x-python",
   "name": "python",
   "nbconvert_exporter": "python",
   "pygments_lexer": "ipython3",
   "version": "3.12.3"
  }
 },
 "nbformat": 4,
 "nbformat_minor": 2
}
